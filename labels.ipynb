{
 "cells": [
  {
   "cell_type": "code",
   "execution_count": 3,
   "metadata": {},
   "outputs": [
    {
     "name": "stderr",
     "output_type": "stream",
     "text": [
      "Downloading readme: 100%|██████████| 161/161 [00:00<00:00, 872kB/s]\n",
      "Repo card metadata block was not found. Setting CardData to empty.\n",
      "Downloading metadata: 100%|██████████| 809/809 [00:00<00:00, 5.68MB/s]\n",
      "Downloading data: 100%|██████████| 143M/143M [00:00<00:00, 218MB/s]  \n",
      "Generating train split: 100%|██████████| 1845559/1845559 [00:00<00:00, 2010560.14 examples/s]\n"
     ]
    }
   ],
   "source": [
    "import torch\n",
    "from datasets import load_dataset\n",
    "from transformers import RobertaTokenizer, RobertaForSequenceClassification, pipeline\n",
    "\n",
    "# # check if CuDA is available and set the device accordingly\n",
    "# device = torch.device(\"cuda\" if torch.cuda.is_available() else \"cpu\")\n",
    "# print(device)\n",
    "\n",
    "# load the dataset\n",
    "dataset = load_dataset(\"ashraq/financial-news\")"
   ]
  },
  {
   "cell_type": "code",
   "execution_count": 4,
   "metadata": {},
   "outputs": [],
   "source": [
    "# load the model and tokenizer\n",
    "model = RobertaForSequenceClassification.from_pretrained(\"mrm8488/distilroberta-finetuned-financial-news-sentiment-analysis\", num_labels=3)\n",
    "tokenizer = RobertaTokenizer.from_pretrained(\"mrm8488/distilroberta-finetuned-financial-news-sentiment-analysis\")\n",
    "\n",
    "# create the sentiment analysis pipeline\n",
    "nlp = pipeline(\"sentiment-analysis\", model=model, tokenizer=tokenizer)"
   ]
  },
  {
   "cell_type": "code",
   "execution_count": 7,
   "metadata": {},
   "outputs": [
    {
     "name": "stdout",
     "output_type": "stream",
     "text": [
      "[{'label': 'positive', 'score': 0.9987536668777466}, {'label': 'negative', 'score': 0.9985798597335815}, {'label': 'neutral', 'score': 0.9998138546943665}, {'label': 'neutral', 'score': 0.9998704195022583}, {'label': 'negative', 'score': 0.8169034719467163}, {'label': 'neutral', 'score': 0.9993150234222412}, {'label': 'neutral', 'score': 0.9998812675476074}, {'label': 'negative', 'score': 0.9965969920158386}, {'label': 'neutral', 'score': 0.999861478805542}, {'label': 'neutral', 'score': 0.9996333122253418}, {'label': 'neutral', 'score': 0.999665379524231}, {'label': 'neutral', 'score': 0.6361739635467529}, {'label': 'neutral', 'score': 0.9998736381530762}, {'label': 'neutral', 'score': 0.9998558759689331}, {'label': 'neutral', 'score': 0.9998440742492676}, {'label': 'neutral', 'score': 0.9998865127563477}, {'label': 'neutral', 'score': 0.9997609257698059}, {'label': 'negative', 'score': 0.9380483627319336}, {'label': 'positive', 'score': 0.9398168921470642}, {'label': 'neutral', 'score': 0.9998868703842163}, {'label': 'negative', 'score': 0.9961037635803223}, {'label': 'neutral', 'score': 0.9982156753540039}, {'label': 'neutral', 'score': 0.9998852014541626}, {'label': 'positive', 'score': 0.9994779229164124}, {'label': 'neutral', 'score': 0.9997792840003967}, {'label': 'negative', 'score': 0.9957408905029297}, {'label': 'neutral', 'score': 0.9998830556869507}, {'label': 'negative', 'score': 0.9970724582672119}, {'label': 'neutral', 'score': 0.9876760244369507}, {'label': 'neutral', 'score': 0.9985015392303467}, {'label': 'neutral', 'score': 0.9245001077651978}, {'label': 'neutral', 'score': 0.9998825788497925}, {'label': 'neutral', 'score': 0.9913943409919739}, {'label': 'neutral', 'score': 0.999896764755249}, {'label': 'neutral', 'score': 0.999884843826294}, {'label': 'negative', 'score': 0.9979631900787354}, {'label': 'neutral', 'score': 0.999883770942688}, {'label': 'neutral', 'score': 0.9990376234054565}, {'label': 'positive', 'score': 0.8313521146774292}, {'label': 'neutral', 'score': 0.9998829364776611}, {'label': 'neutral', 'score': 0.9998743534088135}, {'label': 'neutral', 'score': 0.9998906850814819}, {'label': 'neutral', 'score': 0.7445492744445801}, {'label': 'positive', 'score': 0.9996023774147034}, {'label': 'neutral', 'score': 0.9998568296432495}, {'label': 'neutral', 'score': 0.9998747110366821}, {'label': 'negative', 'score': 0.9981372356414795}, {'label': 'neutral', 'score': 0.9998183846473694}, {'label': 'negative', 'score': 0.995868444442749}, {'label': 'positive', 'score': 0.9985853433609009}]\n"
     ]
    }
   ],
   "source": [
    "# # sample 50 observations from the dataset\n",
    "# import random\n",
    "# random.seed(42)\n",
    "# sample = random.sample(range(len(dataset[\"train\"])), 50)\n",
    "# sentences = [dataset[\"train\"][\"headline\"][i] for i in sample]\n",
    "\n",
    "# # generate labels for the dataset\n",
    "# results = nlp(sentences)\n",
    "\n",
    "# # print the results\n",
    "# print(results)"
   ]
  },
  {
   "cell_type": "code",
   "execution_count": 5,
   "metadata": {},
   "outputs": [
    {
     "name": "stdout",
     "output_type": "stream",
     "text": [
      "cuda\n"
     ]
    }
   ],
   "source": [
    "device = torch.device(\"cuda\" if torch.cuda.is_available() else \"cpu\")\n",
    "print(device)"
   ]
  }
 ],
 "metadata": {
  "kernelspec": {
   "display_name": "Python 3",
   "language": "python",
   "name": "python3"
  },
  "language_info": {
   "codemirror_mode": {
    "name": "ipython",
    "version": 3
   },
   "file_extension": ".py",
   "mimetype": "text/x-python",
   "name": "python",
   "nbconvert_exporter": "python",
   "pygments_lexer": "ipython3",
   "version": "3.10.13"
  }
 },
 "nbformat": 4,
 "nbformat_minor": 2
}
